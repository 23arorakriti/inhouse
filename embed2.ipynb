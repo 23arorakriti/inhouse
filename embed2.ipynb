{
 "cells": [
  {
   "cell_type": "code",
   "execution_count": 2,
   "metadata": {},
   "outputs": [
    {
     "name": "stderr",
     "output_type": "stream",
     "text": [
      "c:\\Kriti\\college\\codefile\\inhouse\\myenv\\Lib\\site-packages\\tqdm\\auto.py:21: TqdmWarning: IProgress not found. Please update jupyter and ipywidgets. See https://ipywidgets.readthedocs.io/en/stable/user_install.html\n",
      "  from .autonotebook import tqdm as notebook_tqdm\n"
     ]
    }
   ],
   "source": [
    "from langchain.llms import GooglePalm\n",
    "from hello import api_key\n",
    "import os\n",
    "os.environ['GOOGLE_AI_KEY']=api_key\n",
    "llm=GooglePalm(google_api_key=api_key,temperature=0.6)"
   ]
  },
  {
   "cell_type": "code",
   "execution_count": 7,
   "metadata": {},
   "outputs": [],
   "source": [
    "import pandas as pd\n",
    "from langchain.document_loaders.csv_loader import CSVLoader\n",
    "\n",
    "\n",
    "loader = CSVLoader(file_path=\"project.csv\", source_column=\"States + UTs\")\n",
    "\n",
    "data = loader.load()\n",
    "\n",
    "\n",
    "\n"
   ]
  },
  {
   "cell_type": "code",
   "execution_count": 15,
   "metadata": {},
   "outputs": [
    {
     "data": {
      "text/plain": [
       "{'query': 'spirtuality of Goa and its origin',\n",
       " 'result': 'The spirituality of Goa is Christian Contemplative Prayer, which originated from Christianity.',\n",
       " 'source_documents': [Document(page_content='S No.: 6\\nStates + UTs: Goa\\nCapitals: Panaji\\nRegion: West\\nPractice Name: Christian Contemplative Prayer\\nOrigin: Christianity\\nFocus: Spiritual intimacy with God\\nMethod: Silent prayer and reflection focusing on divine presence\\nFood: Vindaloo\\nIngredients: Chicken, coconut oil, wine vinegar, ginger, green, cinnamon\\nDiet: non vegetarian\\nPrep_time: 10\\nCook_time: 40\\nFlavor_profile: spicy\\nCourse: main course', metadata={'source': 'Goa', 'row': 34}),\n",
       "  Document(page_content='S No.: 3\\nStates + UTs: Dadra and Nagar Haveli and Daman and Diu\\nCapitals: Daman\\nRegion: West\\nPractice Name: Tribal Rituals\\nOrigin: Indigenous Beliefs\\nFocus: Cultural spirituality\\nMethod: Traditional dances, songs, and rituals\\nFood: Ghooghra\\nIngredients: Semolina, coconut, cardamom, sugar\\nDiet: vegetarian\\nPrep_time: 30\\nCook_time: 30\\nFlavor_profile: sweet\\nCourse: dessert', metadata={'source': 'Dadra and Nagar Haveli and Daman and Diu', 'row': 220}),\n",
       "  Document(page_content='S No.: 21\\nStates + UTs: Rajasthan\\nCapitals: Jaipur\\nRegion: West\\nPractice Name: Folk Spirituality and Meditation\\nOrigin: Local traditions\\nFocus: Cultural spirituality\\nMethod: Silent meditation, local songs, and dances around folk tales\\nFood: Boondi\\nIngredients: Gram flour, ghee, sugar\\nDiet: Vegetarian\\nPrep_time: 80\\nCook_time: 30\\nFlavor_profile: Sweet\\nCourse: Dessert', metadata={'source': 'Rajasthan', 'row': 132}),\n",
       "  Document(page_content='S No.: 6\\nStates + UTs: Lakshadweep\\nCapitals: Kavaratti\\nRegion: South\\nPractice Name: Islamic Meditation\\nOrigin: Islam\\nFocus: Spiritual cleanliness and God-consciousness\\nMethod: Dhikr and prayer focusing on repetitive divine phrases\\nFood: Moah Appam\\nIngredients: Rice flour, coconut, jaggery, cardamom\\nDiet: vegetarian\\nPrep_time: 15\\nCook_time: 20\\nFlavor_profile: sweet\\nCourse: dessert', metadata={'source': 'Lakshadweep', 'row': 230})]}"
      ]
     },
     "execution_count": 15,
     "metadata": {},
     "output_type": "execute_result"
    }
   ],
   "source": [
    "import streamlit as st\n",
    "import os\n",
    "from langchain_google_genai import GoogleGenerativeAIEmbeddings\n",
    "import google.generativeai as genai\n",
    "from langchain.vectorstores import FAISS\n",
    "from langchain_google_genai import ChatGoogleGenerativeAI\n",
    "from langchain.chains import RetrievalQA\n",
    "\n",
    "from langchain.prompts import PromptTemplate\n",
    "\n",
    "embeddings = GoogleGenerativeAIEmbeddings(model=\"models/embedding-001\")\n",
    "e = embeddings.embed_query(\"states\")\n",
    "len(e)\n",
    "\n",
    "instructor_embeddings = GoogleGenerativeAIEmbeddings(\n",
    "    model=\"models/embedding-001\", task_type=\"retrieval_query\"\n",
    ")\n",
    "vectordb = FAISS.from_documents(documents=data,embedding=instructor_embeddings)\n",
    "\n",
    "\n",
    "retriever = vectordb.as_retriever(score_threshold = 0.7)\n",
    "rdocs = retriever.get_relevant_documents(\"Goa\")\n",
    "rdocs\n",
    "\n",
    "\n",
    "from langchain.prompts import PromptTemplate\n",
    "\n",
    "prompt_template = \"\"\"Given the following context and a question, generate an answer based on this context only.\n",
    "In the answer try to provide as much text as possible from \"response\" section in the source document context without making much changes.\n",
    "If the answer is not found in the context, kindly state \"I don't know.\" Don't try to make up an answer.\n",
    "\n",
    "CONTEXT: {context}\n",
    "\n",
    "QUESTION: {question}\"\"\"\n",
    "\n",
    "\n",
    "PROMPT = PromptTemplate(\n",
    "    template=prompt_template, input_variables=[\"context\", \"question\"]\n",
    ")\n",
    "chain_type_kwargs = {\"prompt\": PROMPT}\n",
    "chain = RetrievalQA.from_chain_type(llm=llm,chain_type=\"stuff\",retriever=retriever, input_key=\"query\",return_source_documents=True, chain_type_kwargs=chain_type_kwargs)\n",
    "chain(\"spirtuality of Goa and its origin\")\n",
    "\n",
    "\n"
   ]
  }
 ],
 "metadata": {
  "kernelspec": {
   "display_name": "myenv",
   "language": "python",
   "name": "python3"
  },
  "language_info": {
   "codemirror_mode": {
    "name": "ipython",
    "version": 3
   },
   "file_extension": ".py",
   "mimetype": "text/x-python",
   "name": "python",
   "nbconvert_exporter": "python",
   "pygments_lexer": "ipython3",
   "version": "3.11.4"
  }
 },
 "nbformat": 4,
 "nbformat_minor": 2
}
